{
 "cells": [
  {
   "cell_type": "code",
   "execution_count": 1,
   "metadata": {},
   "outputs": [],
   "source": [
    "import os\n",
    "import cv2\n",
    "import numpy as np\n",
    "import pandas as pd\n",
    "import seaborn as sns\n",
    "from gmplot import gmplot\n",
    "from sklearn import metrics\n",
    "import matplotlib.pyplot as plt\n",
    "from geopy.distance import great_circle\n",
    "from shapely.geometry import MultiPoint\n",
    "from sklearn.cluster import DBSCAN\n",
    "import warnings\n",
    "warnings.filterwarnings('ignore')\n",
    "warnings.filterwarnings(action='once')\n",
    "# os.chdir(\"../\")\n",
    "# os.listdir()"
   ]
  },
  {
   "cell_type": "code",
   "execution_count": 13,
   "metadata": {},
   "outputs": [],
   "source": [
    "city_name = 'delhi-1'"
   ]
  },
  {
   "cell_type": "code",
   "execution_count": 15,
   "metadata": {
    "scrolled": true
   },
   "outputs": [
    {
     "name": "stdout",
     "output_type": "stream",
     "text": [
      "(3499, 2)\n"
     ]
    },
    {
     "data": {
      "text/html": [
       "<div>\n",
       "<style scoped>\n",
       "    .dataframe tbody tr th:only-of-type {\n",
       "        vertical-align: middle;\n",
       "    }\n",
       "\n",
       "    .dataframe tbody tr th {\n",
       "        vertical-align: top;\n",
       "    }\n",
       "\n",
       "    .dataframe thead th {\n",
       "        text-align: right;\n",
       "    }\n",
       "</style>\n",
       "<table border=\"1\" class=\"dataframe\">\n",
       "  <thead>\n",
       "    <tr style=\"text-align: right;\">\n",
       "      <th></th>\n",
       "      <th>lat</th>\n",
       "      <th>lon</th>\n",
       "    </tr>\n",
       "  </thead>\n",
       "  <tbody>\n",
       "    <tr>\n",
       "      <th>0</th>\n",
       "      <td>28.533492</td>\n",
       "      <td>77.151895</td>\n",
       "    </tr>\n",
       "    <tr>\n",
       "      <th>1</th>\n",
       "      <td>28.533647</td>\n",
       "      <td>77.152001</td>\n",
       "    </tr>\n",
       "    <tr>\n",
       "      <th>2</th>\n",
       "      <td>28.489238</td>\n",
       "      <td>77.090988</td>\n",
       "    </tr>\n",
       "    <tr>\n",
       "      <th>3</th>\n",
       "      <td>28.450926</td>\n",
       "      <td>77.087609</td>\n",
       "    </tr>\n",
       "    <tr>\n",
       "      <th>4</th>\n",
       "      <td>28.440015</td>\n",
       "      <td>77.102391</td>\n",
       "    </tr>\n",
       "  </tbody>\n",
       "</table>\n",
       "</div>"
      ],
      "text/plain": [
       "         lat        lon\n",
       "0  28.533492  77.151895\n",
       "1  28.533647  77.152001\n",
       "2  28.489238  77.090988\n",
       "3  28.450926  77.087609\n",
       "4  28.440015  77.102391"
      ]
     },
     "execution_count": 15,
     "metadata": {},
     "output_type": "execute_result"
    }
   ],
   "source": [
    "file_name = 'data/' + city_name + '-reduced_amenity.csv'\n",
    "data = pd.read_csv(file_name)\n",
    "data = data[['lat', 'lon']]\n",
    "print(data.shape)\n",
    "data.head()"
   ]
  },
  {
   "cell_type": "code",
   "execution_count": 16,
   "metadata": {},
   "outputs": [],
   "source": [
    "coords = data.values"
   ]
  },
  {
   "cell_type": "code",
   "execution_count": 17,
   "metadata": {},
   "outputs": [],
   "source": [
    "kms_per_radian = 6371.0088\n",
    "epsilon = 1 / kms_per_radian\n",
    "\n",
    "dbscan = DBSCAN(eps = epsilon ,\n",
    "                min_samples = 2.2 ,\n",
    "                algorithm = 'ball_tree' ,\n",
    "                metric = 'haversine')\n",
    "\n",
    "model = dbscan.fit(np.radians(coords))\n"
   ]
  },
  {
   "cell_type": "code",
   "execution_count": 18,
   "metadata": {},
   "outputs": [
    {
     "data": {
      "text/plain": [
       "44"
      ]
     },
     "execution_count": 18,
     "metadata": {},
     "output_type": "execute_result"
    }
   ],
   "source": [
    "cluster_labels = dbscan.labels_\n",
    "num_clusters = len(set(cluster_labels))\n",
    "num_clusters"
   ]
  },
  {
   "cell_type": "code",
   "execution_count": 19,
   "metadata": {},
   "outputs": [
    {
     "data": {
      "text/plain": [
       "(array([[28.533492 , 77.1518947],\n",
       "        [28.5336472, 77.152001 ],\n",
       "        [28.5084497, 77.166546 ],\n",
       "        ...,\n",
       "        [28.509824 , 77.201705 ],\n",
       "        [28.5100591, 77.201592 ],\n",
       "        [28.6406954, 77.2113562]]), 2536)"
      ]
     },
     "execution_count": 19,
     "metadata": {},
     "output_type": "execute_result"
    }
   ],
   "source": [
    "clusters = pd.Series([ coords [ cluster_labels == n ] for n in range (num_clusters) ])\n",
    "clusters[0], len(clusters[0])"
   ]
  },
  {
   "cell_type": "code",
   "execution_count": 20,
   "metadata": {
    "scrolled": true
   },
   "outputs": [],
   "source": [
    "# clusters = clusters[1:]"
   ]
  },
  {
   "cell_type": "code",
   "execution_count": 21,
   "metadata": {},
   "outputs": [],
   "source": [
    "# clusters[101]"
   ]
  },
  {
   "cell_type": "code",
   "execution_count": 22,
   "metadata": {},
   "outputs": [
    {
     "data": {
      "text/plain": [
       "array([ True,  True,  True, ...,  True,  True,  True])"
      ]
     },
     "execution_count": 22,
     "metadata": {},
     "output_type": "execute_result"
    }
   ],
   "source": [
    "core_samples = np.zeros_like(cluster_labels, dtype='bool')\n",
    "core_samples[dbscan.core_sample_indices_] = True\n",
    "core_samples"
   ]
  },
  {
   "cell_type": "code",
   "execution_count": 23,
   "metadata": {
    "scrolled": true
   },
   "outputs": [
    {
     "data": {
      "text/plain": [
       "(3499, 3499)"
      ]
     },
     "execution_count": 23,
     "metadata": {},
     "output_type": "execute_result"
    }
   ],
   "source": [
    "len(core_samples), len(data)"
   ]
  },
  {
   "cell_type": "code",
   "execution_count": 24,
   "metadata": {},
   "outputs": [
    {
     "data": {
      "text/plain": [
       "(array([False,  True]), array([ 102, 3397]))"
      ]
     },
     "execution_count": 24,
     "metadata": {},
     "output_type": "execute_result"
    }
   ],
   "source": [
    "np.unique(core_samples, return_counts=True)"
   ]
  },
  {
   "cell_type": "code",
   "execution_count": 25,
   "metadata": {},
   "outputs": [],
   "source": [
    "s = pd.Series(core_samples, name='bools')"
   ]
  },
  {
   "cell_type": "code",
   "execution_count": 26,
   "metadata": {},
   "outputs": [
    {
     "data": {
      "text/plain": [
       "((3397, 2), (3499, 2))"
      ]
     },
     "execution_count": 26,
     "metadata": {},
     "output_type": "execute_result"
    }
   ],
   "source": [
    "data[s.values].shape, data.shape"
   ]
  },
  {
   "cell_type": "code",
   "execution_count": 28,
   "metadata": {},
   "outputs": [],
   "source": [
    "file_name = \"data/\" + city_name + '-dbscan.csv'\n",
    "data[s.values].to_csv(file_name, index=False)"
   ]
  },
  {
   "cell_type": "code",
   "execution_count": null,
   "metadata": {},
   "outputs": [],
   "source": []
  },
  {
   "cell_type": "code",
   "execution_count": null,
   "metadata": {},
   "outputs": [],
   "source": []
  },
  {
   "cell_type": "markdown",
   "metadata": {},
   "source": [
    "#  Identifying a cluster’s centermost point"
   ]
  },
  {
   "cell_type": "code",
   "execution_count": 17,
   "metadata": {},
   "outputs": [],
   "source": [
    "# def get_centermost_point(cluster):\n",
    "#     centroid = (MultiPoint(cluster).centroid.x , MultiPoint(cluster).centroid.y)\n",
    "#     centermost_point = min (cluster, key = lambda point : great_circle(point, centroid).m)\n",
    "#     return tuple(centermost_point)\n",
    "# centermost_points = clusters.map(get_centermost_point)\n",
    "# centermost_points[:5]"
   ]
  },
  {
   "cell_type": "code",
   "execution_count": null,
   "metadata": {},
   "outputs": [],
   "source": [
    "lats, lons = zip(*centermost_points)\n",
    "rep_points = pd.DataFrame({'lon': lons ,'lat': lats })"
   ]
  },
  {
   "cell_type": "code",
   "execution_count": 154,
   "metadata": {},
   "outputs": [
    {
     "data": {
      "text/html": [
       "<div>\n",
       "<style scoped>\n",
       "    .dataframe tbody tr th:only-of-type {\n",
       "        vertical-align: middle;\n",
       "    }\n",
       "\n",
       "    .dataframe tbody tr th {\n",
       "        vertical-align: top;\n",
       "    }\n",
       "\n",
       "    .dataframe thead th {\n",
       "        text-align: right;\n",
       "    }\n",
       "</style>\n",
       "<table border=\"1\" class=\"dataframe\">\n",
       "  <thead>\n",
       "    <tr style=\"text-align: right;\">\n",
       "      <th></th>\n",
       "      <th>lat</th>\n",
       "      <th>lon</th>\n",
       "    </tr>\n",
       "  </thead>\n",
       "  <tbody>\n",
       "    <tr>\n",
       "      <th>0</th>\n",
       "      <td>28.587223</td>\n",
       "      <td>77.212080</td>\n",
       "    </tr>\n",
       "    <tr>\n",
       "      <th>1</th>\n",
       "      <td>28.495030</td>\n",
       "      <td>77.093564</td>\n",
       "    </tr>\n",
       "    <tr>\n",
       "      <th>2</th>\n",
       "      <td>28.462298</td>\n",
       "      <td>77.087271</td>\n",
       "    </tr>\n",
       "    <tr>\n",
       "      <th>3</th>\n",
       "      <td>28.497417</td>\n",
       "      <td>77.147735</td>\n",
       "    </tr>\n",
       "    <tr>\n",
       "      <th>4</th>\n",
       "      <td>28.489985</td>\n",
       "      <td>77.138963</td>\n",
       "    </tr>\n",
       "    <tr>\n",
       "      <th>5</th>\n",
       "      <td>28.612870</td>\n",
       "      <td>77.323059</td>\n",
       "    </tr>\n",
       "    <tr>\n",
       "      <th>6</th>\n",
       "      <td>28.526225</td>\n",
       "      <td>77.100783</td>\n",
       "    </tr>\n",
       "    <tr>\n",
       "      <th>7</th>\n",
       "      <td>28.473364</td>\n",
       "      <td>77.124522</td>\n",
       "    </tr>\n",
       "    <tr>\n",
       "      <th>8</th>\n",
       "      <td>28.432627</td>\n",
       "      <td>77.072277</td>\n",
       "    </tr>\n",
       "    <tr>\n",
       "      <th>9</th>\n",
       "      <td>28.651735</td>\n",
       "      <td>77.298207</td>\n",
       "    </tr>\n",
       "    <tr>\n",
       "      <th>10</th>\n",
       "      <td>28.681886</td>\n",
       "      <td>77.229799</td>\n",
       "    </tr>\n",
       "    <tr>\n",
       "      <th>11</th>\n",
       "      <td>28.731475</td>\n",
       "      <td>77.183933</td>\n",
       "    </tr>\n",
       "    <tr>\n",
       "      <th>12</th>\n",
       "      <td>28.756121</td>\n",
       "      <td>77.147976</td>\n",
       "    </tr>\n",
       "    <tr>\n",
       "      <th>13</th>\n",
       "      <td>28.765151</td>\n",
       "      <td>77.145403</td>\n",
       "    </tr>\n",
       "    <tr>\n",
       "      <th>14</th>\n",
       "      <td>28.777406</td>\n",
       "      <td>77.140583</td>\n",
       "    </tr>\n",
       "    <tr>\n",
       "      <th>15</th>\n",
       "      <td>28.794534</td>\n",
       "      <td>77.140671</td>\n",
       "    </tr>\n",
       "    <tr>\n",
       "      <th>16</th>\n",
       "      <td>28.536174</td>\n",
       "      <td>77.339698</td>\n",
       "    </tr>\n",
       "    <tr>\n",
       "      <th>17</th>\n",
       "      <td>28.433027</td>\n",
       "      <td>77.150989</td>\n",
       "    </tr>\n",
       "    <tr>\n",
       "      <th>18</th>\n",
       "      <td>28.677317</td>\n",
       "      <td>77.104158</td>\n",
       "    </tr>\n",
       "    <tr>\n",
       "      <th>19</th>\n",
       "      <td>28.585748</td>\n",
       "      <td>77.083608</td>\n",
       "    </tr>\n",
       "    <tr>\n",
       "      <th>20</th>\n",
       "      <td>28.599226</td>\n",
       "      <td>77.125372</td>\n",
       "    </tr>\n",
       "    <tr>\n",
       "      <th>21</th>\n",
       "      <td>28.430981</td>\n",
       "      <td>77.297133</td>\n",
       "    </tr>\n",
       "    <tr>\n",
       "      <th>22</th>\n",
       "      <td>28.622423</td>\n",
       "      <td>77.136026</td>\n",
       "    </tr>\n",
       "    <tr>\n",
       "      <th>23</th>\n",
       "      <td>28.543616</td>\n",
       "      <td>77.066807</td>\n",
       "    </tr>\n",
       "    <tr>\n",
       "      <th>24</th>\n",
       "      <td>28.529322</td>\n",
       "      <td>77.086729</td>\n",
       "    </tr>\n",
       "    <tr>\n",
       "      <th>25</th>\n",
       "      <td>28.597721</td>\n",
       "      <td>77.064692</td>\n",
       "    </tr>\n",
       "    <tr>\n",
       "      <th>26</th>\n",
       "      <td>28.575009</td>\n",
       "      <td>77.067576</td>\n",
       "    </tr>\n",
       "    <tr>\n",
       "      <th>27</th>\n",
       "      <td>28.707976</td>\n",
       "      <td>77.240028</td>\n",
       "    </tr>\n",
       "    <tr>\n",
       "      <th>28</th>\n",
       "      <td>28.723786</td>\n",
       "      <td>77.149799</td>\n",
       "    </tr>\n",
       "    <tr>\n",
       "      <th>29</th>\n",
       "      <td>28.713696</td>\n",
       "      <td>77.154676</td>\n",
       "    </tr>\n",
       "    <tr>\n",
       "      <th>...</th>\n",
       "      <td>...</td>\n",
       "      <td>...</td>\n",
       "    </tr>\n",
       "    <tr>\n",
       "      <th>72</th>\n",
       "      <td>28.782585</td>\n",
       "      <td>77.197812</td>\n",
       "    </tr>\n",
       "    <tr>\n",
       "      <th>73</th>\n",
       "      <td>28.753882</td>\n",
       "      <td>77.194833</td>\n",
       "    </tr>\n",
       "    <tr>\n",
       "      <th>74</th>\n",
       "      <td>28.677093</td>\n",
       "      <td>77.313011</td>\n",
       "    </tr>\n",
       "    <tr>\n",
       "      <th>75</th>\n",
       "      <td>28.724629</td>\n",
       "      <td>77.093246</td>\n",
       "    </tr>\n",
       "    <tr>\n",
       "      <th>76</th>\n",
       "      <td>28.568047</td>\n",
       "      <td>77.113544</td>\n",
       "    </tr>\n",
       "    <tr>\n",
       "      <th>77</th>\n",
       "      <td>28.577922</td>\n",
       "      <td>77.122256</td>\n",
       "    </tr>\n",
       "    <tr>\n",
       "      <th>78</th>\n",
       "      <td>28.680212</td>\n",
       "      <td>77.274480</td>\n",
       "    </tr>\n",
       "    <tr>\n",
       "      <th>79</th>\n",
       "      <td>28.443195</td>\n",
       "      <td>77.174650</td>\n",
       "    </tr>\n",
       "    <tr>\n",
       "      <th>80</th>\n",
       "      <td>28.413960</td>\n",
       "      <td>77.071252</td>\n",
       "    </tr>\n",
       "    <tr>\n",
       "      <th>81</th>\n",
       "      <td>28.424275</td>\n",
       "      <td>77.358157</td>\n",
       "    </tr>\n",
       "    <tr>\n",
       "      <th>82</th>\n",
       "      <td>28.400755</td>\n",
       "      <td>77.374226</td>\n",
       "    </tr>\n",
       "    <tr>\n",
       "      <th>83</th>\n",
       "      <td>28.383309</td>\n",
       "      <td>77.369564</td>\n",
       "    </tr>\n",
       "    <tr>\n",
       "      <th>84</th>\n",
       "      <td>28.386052</td>\n",
       "      <td>77.346104</td>\n",
       "    </tr>\n",
       "    <tr>\n",
       "      <th>85</th>\n",
       "      <td>28.572364</td>\n",
       "      <td>77.388735</td>\n",
       "    </tr>\n",
       "    <tr>\n",
       "      <th>86</th>\n",
       "      <td>28.459869</td>\n",
       "      <td>77.301016</td>\n",
       "    </tr>\n",
       "    <tr>\n",
       "      <th>87</th>\n",
       "      <td>28.495939</td>\n",
       "      <td>77.303108</td>\n",
       "    </tr>\n",
       "    <tr>\n",
       "      <th>88</th>\n",
       "      <td>28.502403</td>\n",
       "      <td>77.282617</td>\n",
       "    </tr>\n",
       "    <tr>\n",
       "      <th>89</th>\n",
       "      <td>28.514378</td>\n",
       "      <td>77.281572</td>\n",
       "    </tr>\n",
       "    <tr>\n",
       "      <th>90</th>\n",
       "      <td>28.686024</td>\n",
       "      <td>77.330906</td>\n",
       "    </tr>\n",
       "    <tr>\n",
       "      <th>91</th>\n",
       "      <td>28.672688</td>\n",
       "      <td>77.252464</td>\n",
       "    </tr>\n",
       "    <tr>\n",
       "      <th>92</th>\n",
       "      <td>28.698294</td>\n",
       "      <td>77.314275</td>\n",
       "    </tr>\n",
       "    <tr>\n",
       "      <th>93</th>\n",
       "      <td>28.706005</td>\n",
       "      <td>77.259644</td>\n",
       "    </tr>\n",
       "    <tr>\n",
       "      <th>94</th>\n",
       "      <td>28.549499</td>\n",
       "      <td>77.104558</td>\n",
       "    </tr>\n",
       "    <tr>\n",
       "      <th>95</th>\n",
       "      <td>28.631899</td>\n",
       "      <td>77.345573</td>\n",
       "    </tr>\n",
       "    <tr>\n",
       "      <th>96</th>\n",
       "      <td>28.555838</td>\n",
       "      <td>77.323663</td>\n",
       "    </tr>\n",
       "    <tr>\n",
       "      <th>97</th>\n",
       "      <td>28.429266</td>\n",
       "      <td>77.215275</td>\n",
       "    </tr>\n",
       "    <tr>\n",
       "      <th>98</th>\n",
       "      <td>28.693071</td>\n",
       "      <td>77.345320</td>\n",
       "    </tr>\n",
       "    <tr>\n",
       "      <th>99</th>\n",
       "      <td>28.710528</td>\n",
       "      <td>77.313346</td>\n",
       "    </tr>\n",
       "    <tr>\n",
       "      <th>100</th>\n",
       "      <td>28.507249</td>\n",
       "      <td>77.086512</td>\n",
       "    </tr>\n",
       "    <tr>\n",
       "      <th>101</th>\n",
       "      <td>28.626855</td>\n",
       "      <td>77.161201</td>\n",
       "    </tr>\n",
       "  </tbody>\n",
       "</table>\n",
       "<p>102 rows × 2 columns</p>\n",
       "</div>"
      ],
      "text/plain": [
       "           lat        lon\n",
       "0    28.587223  77.212080\n",
       "1    28.495030  77.093564\n",
       "2    28.462298  77.087271\n",
       "3    28.497417  77.147735\n",
       "4    28.489985  77.138963\n",
       "5    28.612870  77.323059\n",
       "6    28.526225  77.100783\n",
       "7    28.473364  77.124522\n",
       "8    28.432627  77.072277\n",
       "9    28.651735  77.298207\n",
       "10   28.681886  77.229799\n",
       "11   28.731475  77.183933\n",
       "12   28.756121  77.147976\n",
       "13   28.765151  77.145403\n",
       "14   28.777406  77.140583\n",
       "15   28.794534  77.140671\n",
       "16   28.536174  77.339698\n",
       "17   28.433027  77.150989\n",
       "18   28.677317  77.104158\n",
       "19   28.585748  77.083608\n",
       "20   28.599226  77.125372\n",
       "21   28.430981  77.297133\n",
       "22   28.622423  77.136026\n",
       "23   28.543616  77.066807\n",
       "24   28.529322  77.086729\n",
       "25   28.597721  77.064692\n",
       "26   28.575009  77.067576\n",
       "27   28.707976  77.240028\n",
       "28   28.723786  77.149799\n",
       "29   28.713696  77.154676\n",
       "..         ...        ...\n",
       "72   28.782585  77.197812\n",
       "73   28.753882  77.194833\n",
       "74   28.677093  77.313011\n",
       "75   28.724629  77.093246\n",
       "76   28.568047  77.113544\n",
       "77   28.577922  77.122256\n",
       "78   28.680212  77.274480\n",
       "79   28.443195  77.174650\n",
       "80   28.413960  77.071252\n",
       "81   28.424275  77.358157\n",
       "82   28.400755  77.374226\n",
       "83   28.383309  77.369564\n",
       "84   28.386052  77.346104\n",
       "85   28.572364  77.388735\n",
       "86   28.459869  77.301016\n",
       "87   28.495939  77.303108\n",
       "88   28.502403  77.282617\n",
       "89   28.514378  77.281572\n",
       "90   28.686024  77.330906\n",
       "91   28.672688  77.252464\n",
       "92   28.698294  77.314275\n",
       "93   28.706005  77.259644\n",
       "94   28.549499  77.104558\n",
       "95   28.631899  77.345573\n",
       "96   28.555838  77.323663\n",
       "97   28.429266  77.215275\n",
       "98   28.693071  77.345320\n",
       "99   28.710528  77.313346\n",
       "100  28.507249  77.086512\n",
       "101  28.626855  77.161201\n",
       "\n",
       "[102 rows x 2 columns]"
      ]
     },
     "execution_count": 154,
     "metadata": {},
     "output_type": "execute_result"
    }
   ],
   "source": [
    "df = data.copy()\n",
    "rs = rep_points.apply(lambda row : df[(df['lat'] == row ['lat']) & (df['lon']== row['lon'])].iloc[0], axis =1)\n",
    "\n",
    "rs"
   ]
  },
  {
   "cell_type": "code",
   "execution_count": null,
   "metadata": {},
   "outputs": [],
   "source": []
  },
  {
   "cell_type": "code",
   "execution_count": null,
   "metadata": {},
   "outputs": [],
   "source": []
  },
  {
   "cell_type": "code",
   "execution_count": null,
   "metadata": {},
   "outputs": [],
   "source": []
  },
  {
   "cell_type": "markdown",
   "metadata": {},
   "source": [
    "# create polygons"
   ]
  },
  {
   "cell_type": "code",
   "execution_count": 155,
   "metadata": {},
   "outputs": [
    {
     "data": {
      "text/plain": [
       "32"
      ]
     },
     "execution_count": 155,
     "metadata": {},
     "output_type": "execute_result"
    }
   ],
   "source": [
    "len(clusters)"
   ]
  },
  {
   "cell_type": "code",
   "execution_count": 156,
   "metadata": {},
   "outputs": [
    {
     "data": {
      "text/plain": [
       "0    [[28.533492, 77.1518947], [28.5336472, 77.1520...\n",
       "1    [[28.489238399999998, 77.09098840000001], [28....\n",
       "2    [[28.4509257, 77.0876091], [28.4400152, 77.102...\n",
       "3    [[28.604361199999996, 77.32309559999999], [28....\n",
       "4    [[28.5262252, 77.1007834], [28.5229363, 77.099...\n",
       "dtype: object"
      ]
     },
     "execution_count": 156,
     "metadata": {},
     "output_type": "execute_result"
    }
   ],
   "source": [
    "clusters[:5]"
   ]
  },
  {
   "cell_type": "code",
   "execution_count": 157,
   "metadata": {},
   "outputs": [],
   "source": [
    "# Convex Hull\n",
    "# point class with x, y as point \n",
    "class Point: \n",
    "    def __init__(self, x, y): \n",
    "        self.x = x \n",
    "        self.y = y \n",
    "\n",
    "def Left_index(points): \n",
    "    ''' Finding the left most point '''\n",
    "    minn = 0\n",
    "    for i in range(1,len(points)): \n",
    "        if points[i].x < points[minn].x: \n",
    "            minn = i \n",
    "        elif points[i].x == points[minn].x: \n",
    "            if points[i].y > points[minn].y: \n",
    "                minn = i \n",
    "    return minn \n",
    "\n",
    "def orientation(p, q, r): \n",
    "    ''' \n",
    "    To find orientation of ordered triplet (p, q, r). \n",
    "    The function returns following values \n",
    "    0 --> p, q and r are colinear \n",
    "    1 --> Clockwise \n",
    "    2 --> Counterclockwise \n",
    "    '''\n",
    "    val = (q.y - p.y) * (r.x - q.x) - (q.x - p.x) * (r.y - q.y) \n",
    "\n",
    "    if val == 0: \n",
    "        return 0\n",
    "    elif val > 0: \n",
    "        return 1\n",
    "    else: \n",
    "        return 2\n",
    "\n",
    "def convexHull(points, n): \n",
    "    # There must be at least 3 points \n",
    "    if n < 3: \n",
    "        return\n",
    "\n",
    "    # Find the leftmost point \n",
    "    l = Left_index(points) \n",
    "\n",
    "    hull = [] \n",
    "    \n",
    "    ''' \n",
    "    Start from leftmost point, keep moving counterclockwise \n",
    "    until reach the start point again. This loop runs O(h) \n",
    "    times where h is number of points in result or output. \n",
    "    '''\n",
    "    p = l \n",
    "    q = 0\n",
    "    while(True): \n",
    "        # Add current point to result \n",
    "        hull.append(p) \n",
    "\n",
    "        ''' \n",
    "        Search for a point 'q' such that orientation(p, x, \n",
    "        q) is counterclockwise for all points 'x'. The idea \n",
    "        is to keep track of last visited most counterclock- \n",
    "        wise point in q. If any point 'i' is more counterclock- \n",
    "        wise than q, then update q. \n",
    "        '''\n",
    "        q = (p + 1) % n \n",
    "        \n",
    "        for i in range(n): \n",
    "            \n",
    "            # If i is more counterclockwise than current q, then update q \n",
    "            if(orientation(points[p], points[i], points[q]) == 2): \n",
    "                q = i \n",
    "        \n",
    "        ''' \n",
    "        Now q is the most counterclockwise with respect to p \n",
    "        Set p as q for next iteration, so that q is added to \n",
    "        result 'hull' \n",
    "        '''\n",
    "        p = q \n",
    "\n",
    "        # While we don't come to first point \n",
    "        if(p == l): \n",
    "            break\n",
    "\n",
    "    # Print Result \n",
    "    result = []\n",
    "    for each in hull: \n",
    "        result.append([points[each].x, points[each].y]) \n",
    "    return result"
   ]
  },
  {
   "cell_type": "code",
   "execution_count": 158,
   "metadata": {},
   "outputs": [],
   "source": [
    "def apply_convex_hull(coordinates):\n",
    "    points = []\n",
    "    for coordinate in coordinates:\n",
    "        x, y = coordinate[0], coordinate[1]\n",
    "        points.append(Point(x,y))\n",
    "        \n",
    "    return convexHull(points, len(points))\n",
    "    "
   ]
  },
  {
   "cell_type": "code",
   "execution_count": 159,
   "metadata": {},
   "outputs": [],
   "source": [
    "polygon = []\n",
    "for i in range(len(clusters)):\n",
    "    if len(clusters[i]) < 10: continue\n",
    "    polygon.append(apply_convex_hull(clusters[i]))"
   ]
  },
  {
   "cell_type": "code",
   "execution_count": 160,
   "metadata": {},
   "outputs": [
    {
     "data": {
      "text/plain": [
       "(13, 2534)"
      ]
     },
     "execution_count": 160,
     "metadata": {},
     "output_type": "execute_result"
    }
   ],
   "source": [
    "len(polygon[0]), len(clusters[0])"
   ]
  },
  {
   "cell_type": "code",
   "execution_count": 161,
   "metadata": {},
   "outputs": [],
   "source": [
    "polygon = polygon[1:]\n",
    "clusters = clusters[1:]"
   ]
  },
  {
   "cell_type": "code",
   "execution_count": 162,
   "metadata": {},
   "outputs": [
    {
     "data": {
      "text/plain": [
       "[[28.489238399999998,\n",
       "  28.493767300000002,\n",
       "  28.497633299999997,\n",
       "  28.5045702,\n",
       "  28.5044048,\n",
       "  28.492398100000003],\n",
       " [77.09098840000001,\n",
       "  77.08592320000001,\n",
       "  77.0865213,\n",
       "  77.0971354,\n",
       "  77.0973074,\n",
       "  77.107998]]"
      ]
     },
     "execution_count": 162,
     "metadata": {},
     "output_type": "execute_result"
    }
   ],
   "source": [
    "poly_coord = []\n",
    "for i in range(len(polygon)):\n",
    "#     print(i)\n",
    "    if polygon[i] is None: continue\n",
    "    lat = [x[0] for x in polygon[i]]\n",
    "    long = [x[1] for x in polygon[i]]\n",
    "    poly_coord.append([lat, long])\n",
    "    \n",
    "poly_coord[0]"
   ]
  },
  {
   "cell_type": "code",
   "execution_count": 163,
   "metadata": {},
   "outputs": [],
   "source": [
    "min_lat, max_lat, min_lon, max_lon = min(data['lat']), max(data['lat']), min(data['lon']), max(data['lon'])\n",
    "## Create empty map with zoom level 16\n",
    "mymap = gmplot.GoogleMapPlotter(\n",
    "    min_lat + (max_lat - min_lat) / 2, \n",
    "    min_lon + (max_lon - min_lon) / 2, \n",
    "    16)"
   ]
  },
  {
   "cell_type": "code",
   "execution_count": 164,
   "metadata": {},
   "outputs": [],
   "source": [
    "for i in range(data.shape[0]):\n",
    "    mymap.scatter([data.iloc[i]['lat']], [data.iloc[i]['lon']], 'red', size=20, marker=False)"
   ]
  },
  {
   "cell_type": "code",
   "execution_count": 165,
   "metadata": {},
   "outputs": [],
   "source": [
    "for i in range(len(poly_coord)):\n",
    "    \n",
    "    lat = poly_coord[i][0]\n",
    "    long = poly_coord[i][1]\n",
    "    colour = np.random.rand(3,)\n",
    "\n",
    "    mymap.scatter( lat, long, '# FF0000', size = 40, marker = False)\n",
    "\n",
    "    mymap.polygon(lat, long, '# FF0000')"
   ]
  },
  {
   "cell_type": "code",
   "execution_count": 166,
   "metadata": {},
   "outputs": [
    {
     "name": "stdout",
     "output_type": "stream",
     "text": [
      "delhi-1-polygon-DBSCAN-31.html\n"
     ]
    }
   ],
   "source": [
    "file_name = city_name  + '-poly-DBSCAN' \"-\" + str(len(clusters)) + '.html'\n",
    "mymap.draw(file_name)\n",
    "print(file_name)"
   ]
  },
  {
   "cell_type": "code",
   "execution_count": null,
   "metadata": {},
   "outputs": [],
   "source": []
  },
  {
   "cell_type": "code",
   "execution_count": null,
   "metadata": {},
   "outputs": [],
   "source": []
  },
  {
   "cell_type": "code",
   "execution_count": null,
   "metadata": {},
   "outputs": [],
   "source": []
  }
 ],
 "metadata": {
  "kernelspec": {
   "display_name": "Python 3",
   "language": "python",
   "name": "python3"
  },
  "language_info": {
   "codemirror_mode": {
    "name": "ipython",
    "version": 3
   },
   "file_extension": ".py",
   "mimetype": "text/x-python",
   "name": "python",
   "nbconvert_exporter": "python",
   "pygments_lexer": "ipython3",
   "version": "3.6.8"
  }
 },
 "nbformat": 4,
 "nbformat_minor": 2
}
