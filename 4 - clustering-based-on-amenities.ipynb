{
 "cells": [
  {
   "cell_type": "code",
   "execution_count": 60,
   "metadata": {},
   "outputs": [],
   "source": [
    "import random\n",
    "import numpy as np\n",
    "import pandas as pd\n",
    "from gmplot import gmplot\n",
    "import matplotlib.pyplot as plt\n",
    "from sklearn.cluster import KMeans"
   ]
  },
  {
   "cell_type": "code",
   "execution_count": 61,
   "metadata": {},
   "outputs": [],
   "source": [
    "city_name = 'delhi-1'"
   ]
  },
  {
   "cell_type": "code",
   "execution_count": 62,
   "metadata": {},
   "outputs": [
    {
     "name": "stdout",
     "output_type": "stream",
     "text": [
      "(3397, 5)\n"
     ]
    },
    {
     "data": {
      "text/html": [
       "<div>\n",
       "<style scoped>\n",
       "    .dataframe tbody tr th:only-of-type {\n",
       "        vertical-align: middle;\n",
       "    }\n",
       "\n",
       "    .dataframe tbody tr th {\n",
       "        vertical-align: top;\n",
       "    }\n",
       "\n",
       "    .dataframe thead th {\n",
       "        text-align: right;\n",
       "    }\n",
       "</style>\n",
       "<table border=\"1\" class=\"dataframe\">\n",
       "  <thead>\n",
       "    <tr style=\"text-align: right;\">\n",
       "      <th></th>\n",
       "      <th>node_id</th>\n",
       "      <th>lat</th>\n",
       "      <th>lon</th>\n",
       "      <th>name</th>\n",
       "      <th>amenity</th>\n",
       "    </tr>\n",
       "  </thead>\n",
       "  <tbody>\n",
       "    <tr>\n",
       "      <th>0</th>\n",
       "      <td>248852574</td>\n",
       "      <td>28.533492</td>\n",
       "      <td>77.151895</td>\n",
       "      <td>Cafe Coffee Day</td>\n",
       "      <td>cafe</td>\n",
       "    </tr>\n",
       "    <tr>\n",
       "      <th>1</th>\n",
       "      <td>248852583</td>\n",
       "      <td>28.533647</td>\n",
       "      <td>77.152001</td>\n",
       "      <td>ICICI, SBI, Citibank,</td>\n",
       "      <td>bank</td>\n",
       "    </tr>\n",
       "    <tr>\n",
       "      <th>2</th>\n",
       "      <td>249054695</td>\n",
       "      <td>28.489238</td>\n",
       "      <td>77.090988</td>\n",
       "      <td>NaN</td>\n",
       "      <td>fuel</td>\n",
       "    </tr>\n",
       "    <tr>\n",
       "      <th>3</th>\n",
       "      <td>249132373</td>\n",
       "      <td>28.450926</td>\n",
       "      <td>77.087609</td>\n",
       "      <td>Paras Hospitals</td>\n",
       "      <td>hospital</td>\n",
       "    </tr>\n",
       "    <tr>\n",
       "      <th>4</th>\n",
       "      <td>249132375</td>\n",
       "      <td>28.440015</td>\n",
       "      <td>77.102391</td>\n",
       "      <td>HDFC Bank &amp; ATM</td>\n",
       "      <td>bank</td>\n",
       "    </tr>\n",
       "  </tbody>\n",
       "</table>\n",
       "</div>"
      ],
      "text/plain": [
       "     node_id        lat        lon                   name   amenity\n",
       "0  248852574  28.533492  77.151895        Cafe Coffee Day      cafe\n",
       "1  248852583  28.533647  77.152001  ICICI, SBI, Citibank,      bank\n",
       "2  249054695  28.489238  77.090988                    NaN      fuel\n",
       "3  249132373  28.450926  77.087609        Paras Hospitals  hospital\n",
       "4  249132375  28.440015  77.102391        HDFC Bank & ATM      bank"
      ]
     },
     "execution_count": 62,
     "metadata": {},
     "output_type": "execute_result"
    }
   ],
   "source": [
    "# file_name = city_name + '-reduced_amenity.csv'\n",
    "file_name = \"data/\" + city_name + '-dbscan.csv'\n",
    "data = pd.read_csv(file_name)\n",
    "print(data.shape)\n",
    "data.head()"
   ]
  },
  {
   "cell_type": "code",
   "execution_count": 63,
   "metadata": {},
   "outputs": [
    {
     "name": "stdout",
     "output_type": "stream",
     "text": [
      "3397 59\n"
     ]
    }
   ],
   "source": [
    "amenities = list(data.amenity)\n",
    "print(len(amenities), len(set(amenities)))"
   ]
  },
  {
   "cell_type": "code",
   "execution_count": 64,
   "metadata": {},
   "outputs": [
    {
     "name": "stdout",
     "output_type": "stream",
     "text": [
      "nightclub : 7\n",
      "clinic : 40\n",
      "community_centre : 17\n",
      "taxi : 23\n",
      "post_box : 20\n",
      "Suvidha Market, Netaji Nagar : 1\n",
      "cafe : 174\n",
      "nursing_home : 1\n",
      "Drinking_Water : 1\n",
      "hospital : 84\n",
      "events_venue : 5\n",
      "coworking_space : 1\n",
      "police : 46\n",
      "restaurant : 374\n",
      "doctors : 23\n",
      "architect : 1\n",
      "school : 154\n",
      "cinema : 38\n",
      "memorial : 1\n",
      "swimming_pool : 4\n",
      "bank : 346\n",
      "place_of_worship : 273\n",
      "courthouse : 1\n",
      "music_school : 4\n",
      "Netaji Nagar Market : 1\n",
      "parking : 67\n",
      "fire_station : 13\n",
      "pub : 7\n",
      "library : 13\n",
      "fast_food;bar : 1\n",
      "fuel : 223\n",
      "marketplace : 35\n",
      "parking_entrance : 4\n",
      "internet_cafe : 3\n",
      "public_building : 6\n",
      "food_court : 5\n",
      "crematorium : 2\n",
      "driving_school : 1\n",
      "college : 30\n",
      "dentist : 21\n",
      "disused : 1\n",
      "toilets : 300\n",
      "cafe;coworking_space : 1\n",
      "theatre : 15\n",
      "fast_food : 245\n",
      "ice_cream : 16\n",
      "money_transfer : 1\n",
      "bar : 50\n",
      "bus_station : 26\n",
      "club : 1\n",
      "studio : 2\n",
      "kindergarten : 13\n",
      "pharmacy : 109\n",
      "atm : 419\n",
      "university : 5\n",
      "post_office : 31\n",
      "parking_space : 4\n",
      "embassy : 37\n",
      "drinking_water : 50\n"
     ]
    }
   ],
   "source": [
    "amenities_dict = {i:amenities.count(i) for i in set(amenities)}\n",
    "for k, v in amenities_dict.items(): print(k, \":\", v)"
   ]
  },
  {
   "cell_type": "code",
   "execution_count": 65,
   "metadata": {},
   "outputs": [
    {
     "data": {
      "text/plain": [
       "[('Suvidha Market, Netaji Nagar', 1),\n",
       " ('nursing_home', 1),\n",
       " ('Drinking_Water', 1),\n",
       " ('coworking_space', 1),\n",
       " ('architect', 1),\n",
       " ('memorial', 1),\n",
       " ('courthouse', 1),\n",
       " ('Netaji Nagar Market', 1),\n",
       " ('fast_food;bar', 1),\n",
       " ('driving_school', 1),\n",
       " ('disused', 1),\n",
       " ('cafe;coworking_space', 1),\n",
       " ('money_transfer', 1),\n",
       " ('club', 1),\n",
       " ('crematorium', 2),\n",
       " ('studio', 2),\n",
       " ('internet_cafe', 3),\n",
       " ('swimming_pool', 4),\n",
       " ('music_school', 4),\n",
       " ('parking_entrance', 4),\n",
       " ('parking_space', 4),\n",
       " ('events_venue', 5),\n",
       " ('food_court', 5),\n",
       " ('university', 5),\n",
       " ('public_building', 6),\n",
       " ('nightclub', 7),\n",
       " ('pub', 7),\n",
       " ('fire_station', 13),\n",
       " ('library', 13),\n",
       " ('kindergarten', 13),\n",
       " ('theatre', 15),\n",
       " ('ice_cream', 16),\n",
       " ('community_centre', 17),\n",
       " ('post_box', 20),\n",
       " ('dentist', 21),\n",
       " ('taxi', 23),\n",
       " ('doctors', 23),\n",
       " ('bus_station', 26),\n",
       " ('college', 30),\n",
       " ('post_office', 31),\n",
       " ('marketplace', 35),\n",
       " ('embassy', 37),\n",
       " ('cinema', 38),\n",
       " ('clinic', 40),\n",
       " ('police', 46),\n",
       " ('bar', 50),\n",
       " ('drinking_water', 50),\n",
       " ('parking', 67),\n",
       " ('hospital', 84),\n",
       " ('pharmacy', 109),\n",
       " ('school', 154),\n",
       " ('cafe', 174),\n",
       " ('fuel', 223),\n",
       " ('fast_food', 245),\n",
       " ('place_of_worship', 273),\n",
       " ('toilets', 300),\n",
       " ('bank', 346),\n",
       " ('restaurant', 374),\n",
       " ('atm', 419)]"
      ]
     },
     "execution_count": 65,
     "metadata": {},
     "output_type": "execute_result"
    }
   ],
   "source": [
    "sorted_dict = sorted(amenities_dict.items(), key=lambda kv: kv[1])\n",
    "sorted_dict"
   ]
  },
  {
   "cell_type": "code",
   "execution_count": 66,
   "metadata": {},
   "outputs": [],
   "source": [
    "food_list = ['restaurant', 'fast_food', 'cafe', 'bar', 'ice_cream', 'fast_food;bar', 'food_court', 'club', 'drinking_water']\n",
    "market_list = ['marketplace', 'internet_cafe']\n",
    "bank_list = ['atm', 'bank', ]\n",
    "toilets_list = ['toilets']\n",
    "education_list = ['school', 'college', 'university']\n",
    "hospital_list = ['pharmacy', 'hospital', 'clinic', 'dentist', 'nursing_home']\n",
    "parking_list = ['parking']\n",
    "entertainment_list = ['cinema', 'theatre', 'nightclub', 'cafe;coworking_space', 'studio', 'internet_cafe', \n",
    "                 'swimming_pool', 'library']\n",
    "worship_list = ['place_of_worship']\n",
    "fuel_list = ['fuel', 'fire_station']\n",
    "others_list = ['post_box', 'community_centre', 'post_office', 'embassy', 'police', 'bus_station', 'public_building',\n",
    "                'taxi']\n",
    "# ---\n",
    "amenity_list = ['food_list', 'market_list', 'bank_list', 'toilets_list', 'education_list', \n",
    "'hospital_list', 'parking_list', 'entertainment_list', 'worship_list', 'fuel_list', 'others_list']"
   ]
  },
  {
   "cell_type": "code",
   "execution_count": 67,
   "metadata": {},
   "outputs": [],
   "source": [
    "food,market,bank,toilets,education,hospital,parking,entertainment,worship,fuel,others = [],[],[],[],[],[],[],[],[],[],[]\n",
    "\n",
    "for value in data.values:\n",
    "    if value[4] in food_list:     food.append([value[1], value[2]])\n",
    "    elif value[4] in market_list:     market.append([value[1], value[2]])    \n",
    "    elif value[4] in bank_list:     bank.append([value[1], value[2]])    \n",
    "    elif value[4] in toilets_list:     toilets.append([value[1], value[2]])    \n",
    "    elif value[4] in education_list:     education.append([value[1], value[2]])    \n",
    "    elif value[4] in hospital_list:     hospital.append([value[1], value[2]])    \n",
    "    elif value[4] in parking_list:     parking.append([value[1], value[2]])    \n",
    "    elif value[4] in entertainment_list:     entertainment.append([value[1], value[2]])    \n",
    "    elif value[4] in worship_list:     worship.append([value[1], value[2]])    \n",
    "    elif value[4] in fuel_list:     fuel.append([value[1], value[2]])    \n",
    "    elif value[4] in others_list:     others.append([value[1], value[2]])    \n",
    "    "
   ]
  },
  {
   "cell_type": "code",
   "execution_count": 68,
   "metadata": {},
   "outputs": [],
   "source": [
    "amenities_list = [food,market,bank,toilets,education,hospital,parking,entertainment,worship,fuel,others]\n",
    "amenities_str = ['food','market','bank','toilets','education','hospital','parking','entertainment','worship','fuel','others']"
   ]
  },
  {
   "cell_type": "code",
   "execution_count": 69,
   "metadata": {
    "scrolled": false
   },
   "outputs": [
    {
     "name": "stdout",
     "output_type": "stream",
     "text": [
      "food : 916\n",
      "market : 38\n",
      "bank : 765\n",
      "toilets : 300\n",
      "education : 189\n",
      "hospital : 255\n",
      "parking : 67\n",
      "entertainment : 80\n",
      "worship : 273\n",
      "fuel : 236\n",
      "others : 206\n"
     ]
    }
   ],
   "source": [
    "for i, item in enumerate(amenities_list):\n",
    "    print(amenities_str[i], \":\", len(item))"
   ]
  },
  {
   "cell_type": "code",
   "execution_count": 70,
   "metadata": {},
   "outputs": [],
   "source": [
    "# Convex Hull\n",
    "# point class with x, y as point \n",
    "class Point: \n",
    "    def __init__(self, x, y): \n",
    "        self.x = x \n",
    "        self.y = y \n",
    "\n",
    "def Left_index(points): \n",
    "    ''' Finding the left most point '''\n",
    "    minn = 0\n",
    "    for i in range(1,len(points)): \n",
    "        if points[i].x < points[minn].x: \n",
    "            minn = i \n",
    "        elif points[i].x == points[minn].x: \n",
    "            if points[i].y > points[minn].y: \n",
    "                minn = i \n",
    "    return minn \n",
    "\n",
    "def orientation(p, q, r): \n",
    "    val = (q.y - p.y) * (r.x - q.x) - (q.x - p.x) * (r.y - q.y) \n",
    "    if val == 0: \n",
    "        return 0\n",
    "    elif val > 0: \n",
    "        return 1\n",
    "    else: \n",
    "        return 2\n",
    "\n",
    "def convexHull(points, n): \n",
    "    # There must be at least 3 points \n",
    "    if n < 3: \n",
    "        return\n",
    "\n",
    "    l = Left_index(points) \n",
    "    hull = [] \n",
    "    p = l \n",
    "    q = 0\n",
    "    while(True): \n",
    "        # Add current point to result \n",
    "        hull.append(p) \n",
    "        q = (p + 1) % n         \n",
    "        for i in range(n): \n",
    "            \n",
    "            # If i is more counterclockwise than current q, then update q \n",
    "            if(orientation(points[p], points[i], points[q]) == 2): \n",
    "                q = i \n",
    "        p = q \n",
    "        # While we don't come to first point \n",
    "        if(p == l): \n",
    "            break\n",
    "    # Print Result \n",
    "    result = []\n",
    "    for each in hull: \n",
    "        result.append([points[each].x, points[each].y]) \n",
    "    return result"
   ]
  },
  {
   "cell_type": "markdown",
   "metadata": {},
   "source": [
    "# Plot food on GMaps"
   ]
  },
  {
   "cell_type": "code",
   "execution_count": 71,
   "metadata": {
    "scrolled": false
   },
   "outputs": [
    {
     "ename": "TypeError",
     "evalue": "'list' object cannot be interpreted as an integer",
     "output_type": "error",
     "traceback": [
      "\u001b[0;31m---------------------------------------------------------------------------\u001b[0m",
      "\u001b[0;31mTypeError\u001b[0m                                 Traceback (most recent call last)",
      "\u001b[0;32m<ipython-input-71-ad0320ec376c>\u001b[0m in \u001b[0;36m<module>\u001b[0;34m\u001b[0m\n\u001b[0;32m----> 1\u001b[0;31m \u001b[0;32mfor\u001b[0m \u001b[0mi\u001b[0m \u001b[0;32min\u001b[0m \u001b[0mrange\u001b[0m\u001b[0;34m(\u001b[0m\u001b[0mamenities_list\u001b[0m\u001b[0;34m)\u001b[0m\u001b[0;34m:\u001b[0m\u001b[0;34m\u001b[0m\u001b[0;34m\u001b[0m\u001b[0m\n\u001b[0m\u001b[1;32m      2\u001b[0m     \u001b[0mamenity_array\u001b[0m \u001b[0;34m=\u001b[0m \u001b[0mamenities_list\u001b[0m\u001b[0;34m[\u001b[0m\u001b[0mi\u001b[0m\u001b[0;34m]\u001b[0m\u001b[0;34m\u001b[0m\u001b[0;34m\u001b[0m\u001b[0m\n\u001b[1;32m      3\u001b[0m     \u001b[0mamenity_name\u001b[0m \u001b[0;34m=\u001b[0m \u001b[0mamenities_str\u001b[0m\u001b[0;34m[\u001b[0m\u001b[0mi\u001b[0m\u001b[0;34m]\u001b[0m\u001b[0;34m\u001b[0m\u001b[0;34m\u001b[0m\u001b[0m\n",
      "\u001b[0;31mTypeError\u001b[0m: 'list' object cannot be interpreted as an integer"
     ]
    }
   ],
   "source": [
    "for i in range(amenities_list):\n",
    "    amenity_array = amenities_list[i]\n",
    "    amenity_name = amenities_str[i]"
   ]
  },
  {
   "cell_type": "code",
   "execution_count": 72,
   "metadata": {},
   "outputs": [
    {
     "data": {
      "text/plain": [
       "['food',\n",
       " 'market',\n",
       " 'bank',\n",
       " 'toilets',\n",
       " 'education',\n",
       " 'hospital',\n",
       " 'parking',\n",
       " 'entertainment',\n",
       " 'worship',\n",
       " 'fuel',\n",
       " 'others']"
      ]
     },
     "execution_count": 72,
     "metadata": {},
     "output_type": "execute_result"
    }
   ],
   "source": [
    "amenities_str"
   ]
  },
  {
   "cell_type": "code",
   "execution_count": 114,
   "metadata": {},
   "outputs": [
    {
     "name": "stdout",
     "output_type": "stream",
     "text": [
      "20 20\n",
      "data/amenity/food-polygon.html\n",
      "38 38\n",
      "data/amenity/market-polygon.html\n",
      "20 20\n",
      "data/amenity/bank-polygon.html\n",
      "20 20\n",
      "data/amenity/toilets-polygon.html\n",
      "20 20\n",
      "data/amenity/education-polygon.html\n",
      "20 20\n",
      "data/amenity/hospital-polygon.html\n",
      "20 20\n",
      "data/amenity/parking-polygon.html\n",
      "20 20\n",
      "data/amenity/entertainment-polygon.html\n",
      "20 20\n",
      "data/amenity/worship-polygon.html\n",
      "20 20\n",
      "data/amenity/fuel-polygon.html\n",
      "20 20\n",
      "data/amenity/others-polygon.html\n"
     ]
    }
   ],
   "source": [
    "for i in range(len(amenities_list)):\n",
    "    amenity_array = amenities_list[i]\n",
    "    amenity_name = amenities_str[i]\n",
    "    \n",
    "#     amenity_array = market\n",
    "#     amenity_name = 'market'\n",
    "    \n",
    "\n",
    "    # amenity_array = food\n",
    "    # amenity_name = 'food'\n",
    "    amenity_df = pd.DataFrame(amenity_array, columns = ['lat', 'lon'])\n",
    "\n",
    "    # Fitting K-Means to the dataset\n",
    "    if len(amenity_array) < 60: n_clusters = len(amenity_array)\n",
    "    else: n_clusters = 20\n",
    "\n",
    "    kmeans = KMeans(n_clusters, init = 'k-means++', random_state = 42)\n",
    "    y_kmeans = kmeans.fit_predict(amenity_array)\n",
    "\n",
    "    # Convex Hull\n",
    "    def apply_convex_hull(coordinates):\n",
    "        points = []\n",
    "        for coordinate in coordinates:\n",
    "            x, y = coordinate[0], coordinate[1]\n",
    "            points.append(Point(x,y))  \n",
    "        return convexHull(points, len(points))\n",
    "\n",
    "\n",
    "    polygon = []\n",
    "    amenity_array = np.array(amenity_array)\n",
    "    for i in range(n_clusters):\n",
    "        polygon.append(apply_convex_hull(amenity_array[y_kmeans == i]))\n",
    "\n",
    "\n",
    "    # convert polygon into [(lat, lon), (lat, lon), (lat, lon)] format\n",
    "    poly_coord = []\n",
    "    for i in range(len(polygon)):\n",
    "        if polygon[i] is None: continue\n",
    "        lat = [x[0] for x in polygon[i]]\n",
    "        long = [x[1] for x in polygon[i]]\n",
    "        poly_coord.append([lat, long])\n",
    "\n",
    "    print(n_clusters, len(polygon))\n",
    "\n",
    "    # plot polygon using gmplot\n",
    "    min_lat, max_lat, min_lon, max_lon = min(amenity_df['lat']), max(amenity_df['lat']), min(amenity_df['lon']), max(amenity_df['lon'])\n",
    "    mymap = gmplot.GoogleMapPlotter(\n",
    "        min_lat + (max_lat - min_lat) / 2, \n",
    "        min_lon + (max_lon - min_lon) / 2, \n",
    "        12)\n",
    "\n",
    "    r = lambda: random.randint(0,255)\n",
    "    colour = '#%02X%02X%02X' % (r(),r(),r()) # colour for plotting polygon\n",
    "\n",
    "    for i in range(amenity_df.shape[0]):\n",
    "        mymap.scatter([amenity_df.iloc[i]['lat']], [amenity_df.iloc[i]['lon']], colour, size=40, marker=False)\n",
    "    \n",
    "    for i in range(len(poly_coord)):\n",
    "        lat = poly_coord[i][0]\n",
    "        long = poly_coord[i][1]\n",
    "        mymap.scatter( lat, long, 'red', size = 40, marker = False)\n",
    "        mymap.polygon(lat, long, 'red')\n",
    "        \n",
    "    file_name = \"data/amenity/\" + amenity_name + '-polygon' + '.html'\n",
    "    mymap.draw(file_name)\n",
    "    print(file_name)   \n"
   ]
  },
  {
   "cell_type": "code",
   "execution_count": 102,
   "metadata": {},
   "outputs": [],
   "source": [
    "# file_name = \"data/amenity/\" + amenity_name + '-polygon' + '.html'\n",
    "# mymap.draw(file_name)\n",
    "# print(file_name)    "
   ]
  },
  {
   "cell_type": "code",
   "execution_count": 96,
   "metadata": {},
   "outputs": [
    {
     "data": {
      "text/plain": [
       "[[[28.504091100000004, 28.5049584, 28.5049584],\n",
       "  [77.184885, 77.1849078, 77.1849078]],\n",
       " [[28.4788836, 28.4811774, 28.4802325],\n",
       "  [77.08036170000003, 77.0801408, 77.0803027]]]"
      ]
     },
     "execution_count": 96,
     "metadata": {},
     "output_type": "execute_result"
    }
   ],
   "source": [
    "poly_coord"
   ]
  },
  {
   "cell_type": "code",
   "execution_count": null,
   "metadata": {},
   "outputs": [],
   "source": []
  },
  {
   "cell_type": "code",
   "execution_count": null,
   "metadata": {},
   "outputs": [],
   "source": []
  },
  {
   "cell_type": "code",
   "execution_count": null,
   "metadata": {},
   "outputs": [],
   "source": []
  },
  {
   "cell_type": "code",
   "execution_count": 112,
   "metadata": {},
   "outputs": [
    {
     "data": {
      "text/plain": [
       "38"
      ]
     },
     "execution_count": 112,
     "metadata": {},
     "output_type": "execute_result"
    }
   ],
   "source": [
    "len(amenity_array)"
   ]
  },
  {
   "cell_type": "code",
   "execution_count": null,
   "metadata": {},
   "outputs": [],
   "source": []
  },
  {
   "cell_type": "code",
   "execution_count": null,
   "metadata": {},
   "outputs": [],
   "source": []
  },
  {
   "cell_type": "code",
   "execution_count": null,
   "metadata": {},
   "outputs": [],
   "source": []
  },
  {
   "cell_type": "code",
   "execution_count": null,
   "metadata": {},
   "outputs": [],
   "source": []
  },
  {
   "cell_type": "code",
   "execution_count": null,
   "metadata": {},
   "outputs": [],
   "source": []
  }
 ],
 "metadata": {
  "kernelspec": {
   "display_name": "Python 3",
   "language": "python",
   "name": "python3"
  },
  "language_info": {
   "codemirror_mode": {
    "name": "ipython",
    "version": 3
   },
   "file_extension": ".py",
   "mimetype": "text/x-python",
   "name": "python",
   "nbconvert_exporter": "python",
   "pygments_lexer": "ipython3",
   "version": "3.6.8"
  }
 },
 "nbformat": 4,
 "nbformat_minor": 2
}
